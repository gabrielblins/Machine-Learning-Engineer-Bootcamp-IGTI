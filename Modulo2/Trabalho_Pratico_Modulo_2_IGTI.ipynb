{
  "nbformat": 4,
  "nbformat_minor": 0,
  "metadata": {
    "colab": {
      "name": "Trabalho_Pratico_Modulo_2_IGTI.ipynb",
      "provenance": [],
      "authorship_tag": "ABX9TyMkonWHzWtBwsIPxocAkuGL",
      "include_colab_link": true
    },
    "kernelspec": {
      "name": "python3",
      "display_name": "Python 3"
    },
    "language_info": {
      "name": "python"
    }
  },
  "cells": [
    {
      "cell_type": "markdown",
      "metadata": {
        "id": "view-in-github",
        "colab_type": "text"
      },
      "source": [
        "<a href=\"https://colab.research.google.com/github/gabrielblins/Machine-Learning-Engineer-Bootcamp-IGTI/blob/master/Modulo2/Trabalho_Pratico_Modulo_2_IGTI.ipynb\" target=\"_parent\"><img src=\"https://colab.research.google.com/assets/colab-badge.svg\" alt=\"Open In Colab\"/></a>"
      ]
    },
    {
      "cell_type": "code",
      "metadata": {
        "id": "17I9UHBLkTMX"
      },
      "source": [
        "import pandas as pd\n",
        "import numpy as np\n",
        "import matplotlib.pyplot as plt\n",
        "import seaborn as sns"
      ],
      "execution_count": 1,
      "outputs": []
    },
    {
      "cell_type": "code",
      "metadata": {
        "colab": {
          "base_uri": "https://localhost:8080/",
          "height": 309
        },
        "id": "TAaMmltEkqGc",
        "outputId": "2ca4ab9c-5c61-4805-d5fb-8899c95e68ca"
      },
      "source": [
        "bike_df = pd.read_csv('https://pycourse.s3.amazonaws.com/bike-sharing.csv')\n",
        "bike_df.head()"
      ],
      "execution_count": 2,
      "outputs": [
        {
          "output_type": "execute_result",
          "data": {
            "text/html": [
              "<div>\n",
              "<style scoped>\n",
              "    .dataframe tbody tr th:only-of-type {\n",
              "        vertical-align: middle;\n",
              "    }\n",
              "\n",
              "    .dataframe tbody tr th {\n",
              "        vertical-align: top;\n",
              "    }\n",
              "\n",
              "    .dataframe thead th {\n",
              "        text-align: right;\n",
              "    }\n",
              "</style>\n",
              "<table border=\"1\" class=\"dataframe\">\n",
              "  <thead>\n",
              "    <tr style=\"text-align: right;\">\n",
              "      <th></th>\n",
              "      <th>datetime</th>\n",
              "      <th>rec_id</th>\n",
              "      <th>season</th>\n",
              "      <th>year</th>\n",
              "      <th>month</th>\n",
              "      <th>hour</th>\n",
              "      <th>is_holiday</th>\n",
              "      <th>weekday</th>\n",
              "      <th>is_workingday</th>\n",
              "      <th>weather_condition</th>\n",
              "      <th>temp</th>\n",
              "      <th>atemp</th>\n",
              "      <th>humidity</th>\n",
              "      <th>windspeed</th>\n",
              "      <th>casual</th>\n",
              "      <th>registered</th>\n",
              "      <th>total_count</th>\n",
              "    </tr>\n",
              "  </thead>\n",
              "  <tbody>\n",
              "    <tr>\n",
              "      <th>0</th>\n",
              "      <td>2011-01-01</td>\n",
              "      <td>1</td>\n",
              "      <td>1</td>\n",
              "      <td>0</td>\n",
              "      <td>1</td>\n",
              "      <td>0</td>\n",
              "      <td>0</td>\n",
              "      <td>6</td>\n",
              "      <td>0</td>\n",
              "      <td>1</td>\n",
              "      <td>0.24</td>\n",
              "      <td>0.2879</td>\n",
              "      <td>0.81</td>\n",
              "      <td>0.0</td>\n",
              "      <td>3</td>\n",
              "      <td>13</td>\n",
              "      <td>16</td>\n",
              "    </tr>\n",
              "    <tr>\n",
              "      <th>1</th>\n",
              "      <td>2011-01-01</td>\n",
              "      <td>2</td>\n",
              "      <td>1</td>\n",
              "      <td>0</td>\n",
              "      <td>1</td>\n",
              "      <td>1</td>\n",
              "      <td>0</td>\n",
              "      <td>6</td>\n",
              "      <td>0</td>\n",
              "      <td>1</td>\n",
              "      <td>0.22</td>\n",
              "      <td>0.2727</td>\n",
              "      <td>0.80</td>\n",
              "      <td>0.0</td>\n",
              "      <td>8</td>\n",
              "      <td>32</td>\n",
              "      <td>40</td>\n",
              "    </tr>\n",
              "    <tr>\n",
              "      <th>2</th>\n",
              "      <td>2011-01-01</td>\n",
              "      <td>3</td>\n",
              "      <td>1</td>\n",
              "      <td>0</td>\n",
              "      <td>1</td>\n",
              "      <td>2</td>\n",
              "      <td>0</td>\n",
              "      <td>6</td>\n",
              "      <td>0</td>\n",
              "      <td>1</td>\n",
              "      <td>0.22</td>\n",
              "      <td>0.2727</td>\n",
              "      <td>0.80</td>\n",
              "      <td>0.0</td>\n",
              "      <td>5</td>\n",
              "      <td>27</td>\n",
              "      <td>32</td>\n",
              "    </tr>\n",
              "    <tr>\n",
              "      <th>3</th>\n",
              "      <td>2011-01-01</td>\n",
              "      <td>4</td>\n",
              "      <td>1</td>\n",
              "      <td>0</td>\n",
              "      <td>1</td>\n",
              "      <td>3</td>\n",
              "      <td>0</td>\n",
              "      <td>6</td>\n",
              "      <td>0</td>\n",
              "      <td>1</td>\n",
              "      <td>0.24</td>\n",
              "      <td>0.2879</td>\n",
              "      <td>0.75</td>\n",
              "      <td>0.0</td>\n",
              "      <td>3</td>\n",
              "      <td>10</td>\n",
              "      <td>13</td>\n",
              "    </tr>\n",
              "    <tr>\n",
              "      <th>4</th>\n",
              "      <td>2011-01-01</td>\n",
              "      <td>5</td>\n",
              "      <td>1</td>\n",
              "      <td>0</td>\n",
              "      <td>1</td>\n",
              "      <td>4</td>\n",
              "      <td>0</td>\n",
              "      <td>6</td>\n",
              "      <td>0</td>\n",
              "      <td>1</td>\n",
              "      <td>0.24</td>\n",
              "      <td>0.2879</td>\n",
              "      <td>0.75</td>\n",
              "      <td>0.0</td>\n",
              "      <td>0</td>\n",
              "      <td>1</td>\n",
              "      <td>1</td>\n",
              "    </tr>\n",
              "  </tbody>\n",
              "</table>\n",
              "</div>"
            ],
            "text/plain": [
              "     datetime  rec_id  season  year  ...  windspeed  casual  registered  total_count\n",
              "0  2011-01-01       1       1     0  ...        0.0       3          13           16\n",
              "1  2011-01-01       2       1     0  ...        0.0       8          32           40\n",
              "2  2011-01-01       3       1     0  ...        0.0       5          27           32\n",
              "3  2011-01-01       4       1     0  ...        0.0       3          10           13\n",
              "4  2011-01-01       5       1     0  ...        0.0       0           1            1\n",
              "\n",
              "[5 rows x 17 columns]"
            ]
          },
          "metadata": {
            "tags": []
          },
          "execution_count": 2
        }
      ]
    },
    {
      "cell_type": "markdown",
      "metadata": {
        "id": "BWt-WEKkk3Hs"
      },
      "source": [
        "* rec_id: índice do registro de locação.\n",
        "* datetime: data.\n",
        "* season: estação do ano (1: inverno, 2: primavera, 3: verão, 4: outono). Relativo ao hemisfério norte.\n",
        "* year: ano (0: 2011, 1:2012).\n",
        "* month: mês (1 a 12).\n",
        "* hour: hora do dia (0 a 23).\n",
        "* is_holiday: booleano indicando feriado.\n",
        "* weekday: dia da semana (0: domingo, 1: segunda-feira, ..., 6: sábado).\n",
        "* is_workingday: booleano indicando dia útil.\n",
        "* weather_condition: (1: limpo, 2: nublado, 3: chuva leve, 4: chuva forte).\n",
        "* temp: temperatura escalada entre 0 e 1. Valor original em graus Celsius: -8 a 39.\n",
        "* atemp: sensação térmica escalada entre 0 e 1. Valor original em graus Celsius: -16 a 50.\n",
        "* humidity: umidade relativa (0 a 1).\n",
        "* windspeed: velocidade do vento escalada entre 0 e 1 (máximo original: 67).\n",
        "* casual: número de locações para usuários casuais.\n",
        "* registered: número de locações para usuários registrados.\n",
        "* total_count: contador total de aluguéis (casual+registered).\n",
        "\n",
        "\n"
      ]
    },
    {
      "cell_type": "markdown",
      "metadata": {
        "id": "rss5NiU1thoC"
      },
      "source": [
        "* Qual o tamanho desse dataset?"
      ]
    },
    {
      "cell_type": "code",
      "metadata": {
        "colab": {
          "base_uri": "https://localhost:8080/"
        },
        "id": "YfsNEdXurash",
        "outputId": "cb78f2cb-5d4f-4563-80e2-8f6a1f955697"
      },
      "source": [
        "bike_df.shape"
      ],
      "execution_count": 27,
      "outputs": [
        {
          "output_type": "execute_result",
          "data": {
            "text/plain": [
              "(17379, 17)"
            ]
          },
          "metadata": {
            "tags": []
          },
          "execution_count": 27
        }
      ]
    },
    {
      "cell_type": "code",
      "metadata": {
        "colab": {
          "base_uri": "https://localhost:8080/"
        },
        "id": "G7KduawnkxX3",
        "outputId": "3a8913b5-2b27-4ec6-f2e2-bd6c5db83172"
      },
      "source": [
        "bike_df.info()"
      ],
      "execution_count": 3,
      "outputs": [
        {
          "output_type": "stream",
          "text": [
            "<class 'pandas.core.frame.DataFrame'>\n",
            "RangeIndex: 17379 entries, 0 to 17378\n",
            "Data columns (total 17 columns):\n",
            " #   Column             Non-Null Count  Dtype  \n",
            "---  ------             --------------  -----  \n",
            " 0   datetime           17379 non-null  object \n",
            " 1   rec_id             17379 non-null  int64  \n",
            " 2   season             17379 non-null  int64  \n",
            " 3   year               17379 non-null  int64  \n",
            " 4   month              17379 non-null  int64  \n",
            " 5   hour               17379 non-null  int64  \n",
            " 6   is_holiday         17379 non-null  int64  \n",
            " 7   weekday            17379 non-null  int64  \n",
            " 8   is_workingday      17379 non-null  int64  \n",
            " 9   weather_condition  17379 non-null  int64  \n",
            " 10  temp               17379 non-null  float64\n",
            " 11  atemp              17379 non-null  float64\n",
            " 12  humidity           17379 non-null  float64\n",
            " 13  windspeed          17379 non-null  float64\n",
            " 14  casual             17379 non-null  int64  \n",
            " 15  registered         17379 non-null  int64  \n",
            " 16  total_count        17379 non-null  int64  \n",
            "dtypes: float64(4), int64(12), object(1)\n",
            "memory usage: 2.3+ MB\n"
          ],
          "name": "stdout"
        }
      ]
    },
    {
      "cell_type": "markdown",
      "metadata": {
        "id": "2UXfZf5RtlKl"
      },
      "source": [
        "* Qual a média da coluna windspeed?"
      ]
    },
    {
      "cell_type": "code",
      "metadata": {
        "colab": {
          "base_uri": "https://localhost:8080/"
        },
        "id": "98ZM7cQ0lwdM",
        "outputId": "b292a2c3-63c6-46bc-f58a-673fe9fcb1fe"
      },
      "source": [
        "bike_df.windspeed.mean()"
      ],
      "execution_count": 4,
      "outputs": [
        {
          "output_type": "execute_result",
          "data": {
            "text/plain": [
              "0.1900976063064631"
            ]
          },
          "metadata": {
            "tags": []
          },
          "execution_count": 4
        }
      ]
    },
    {
      "cell_type": "markdown",
      "metadata": {
        "id": "Wo8r4PtBtneG"
      },
      "source": [
        "* Qual a média da coluna temp?"
      ]
    },
    {
      "cell_type": "code",
      "metadata": {
        "colab": {
          "base_uri": "https://localhost:8080/"
        },
        "id": "iTQtLvifl5lE",
        "outputId": "ffc19136-ccca-4930-f85a-5e59b18a0cd7"
      },
      "source": [
        "bike_df.temp.mean()"
      ],
      "execution_count": 5,
      "outputs": [
        {
          "output_type": "execute_result",
          "data": {
            "text/plain": [
              "0.4969871684216586"
            ]
          },
          "metadata": {
            "tags": []
          },
          "execution_count": 5
        }
      ]
    },
    {
      "cell_type": "markdown",
      "metadata": {
        "id": "Jhu3islOtpyV"
      },
      "source": [
        "* Quantos registros existem para o ano de 2011?"
      ]
    },
    {
      "cell_type": "code",
      "metadata": {
        "colab": {
          "base_uri": "https://localhost:8080/"
        },
        "id": "kFZTbGsYmAdS",
        "outputId": "788799ca-258a-412e-d606-88f4fd3c942a"
      },
      "source": [
        "bike_df[bike_df['year'] == 0].shape"
      ],
      "execution_count": 9,
      "outputs": [
        {
          "output_type": "execute_result",
          "data": {
            "text/plain": [
              "(8645, 17)"
            ]
          },
          "metadata": {
            "tags": []
          },
          "execution_count": 9
        }
      ]
    },
    {
      "cell_type": "markdown",
      "metadata": {
        "id": "2Iy6BUeEtsNO"
      },
      "source": [
        "* Quantos registros existem para o ano de 2012?"
      ]
    },
    {
      "cell_type": "code",
      "metadata": {
        "colab": {
          "base_uri": "https://localhost:8080/"
        },
        "id": "S6MQ2GwqmUp8",
        "outputId": "74da3e5c-4720-49fd-bc33-1d0149b3683b"
      },
      "source": [
        "bike_df[bike_df['year'] == 1].shape"
      ],
      "execution_count": 10,
      "outputs": [
        {
          "output_type": "execute_result",
          "data": {
            "text/plain": [
              "(8734, 17)"
            ]
          },
          "metadata": {
            "tags": []
          },
          "execution_count": 10
        }
      ]
    },
    {
      "cell_type": "markdown",
      "metadata": {
        "id": "1CA9p4Pmtuax"
      },
      "source": [
        "* Quantas locações de bicicletas foram efetuadas em 2011?"
      ]
    },
    {
      "cell_type": "code",
      "metadata": {
        "colab": {
          "base_uri": "https://localhost:8080/"
        },
        "id": "MCKCFG8pmjh-",
        "outputId": "fabaebee-a754-4e64-b575-8a6f0dd074e1"
      },
      "source": [
        "bike_df[bike_df['year'] == 0]['total_count'].sum()"
      ],
      "execution_count": 11,
      "outputs": [
        {
          "output_type": "execute_result",
          "data": {
            "text/plain": [
              "1243103"
            ]
          },
          "metadata": {
            "tags": []
          },
          "execution_count": 11
        }
      ]
    },
    {
      "cell_type": "markdown",
      "metadata": {
        "id": "Aa8XbZPUtwMB"
      },
      "source": [
        "* Quantas locações de bicicletas foram efetuadas em 2012?"
      ]
    },
    {
      "cell_type": "code",
      "metadata": {
        "colab": {
          "base_uri": "https://localhost:8080/"
        },
        "id": "m01fsalfnDB0",
        "outputId": "fa8270aa-a27a-4a23-d4c5-2eb177120d7d"
      },
      "source": [
        "bike_df[bike_df['year'] == 1]['total_count'].sum()"
      ],
      "execution_count": 12,
      "outputs": [
        {
          "output_type": "execute_result",
          "data": {
            "text/plain": [
              "2049576"
            ]
          },
          "metadata": {
            "tags": []
          },
          "execution_count": 12
        }
      ]
    },
    {
      "cell_type": "markdown",
      "metadata": {
        "id": "iXkcS_cYtyAc"
      },
      "source": [
        "* Qual estação do ano contém a maior média de locações de bicicletas? \n",
        "* Qual estação do ano contém a menor média de locações de bicicletas?"
      ]
    },
    {
      "cell_type": "code",
      "metadata": {
        "colab": {
          "base_uri": "https://localhost:8080/"
        },
        "id": "5Bn5xoa9n0eU",
        "outputId": "0ea6991f-a2e3-4da2-d5d0-f83c57601603"
      },
      "source": [
        "bike_df.groupby(['season'])['total_count'].mean().sort_values(ascending=False)"
      ],
      "execution_count": 28,
      "outputs": [
        {
          "output_type": "execute_result",
          "data": {
            "text/plain": [
              "season\n",
              "3    236.016237\n",
              "2    208.344069\n",
              "4    198.868856\n",
              "1    111.114569\n",
              "Name: total_count, dtype: float64"
            ]
          },
          "metadata": {
            "tags": []
          },
          "execution_count": 28
        }
      ]
    },
    {
      "cell_type": "markdown",
      "metadata": {
        "id": "p2zjwU8qt0US"
      },
      "source": [
        "* Qual horário do dia contém a maior média de locações de bicicletas? \n",
        "* Qual horário do dia contém a menor média de locações de bicicletas?"
      ]
    },
    {
      "cell_type": "code",
      "metadata": {
        "colab": {
          "base_uri": "https://localhost:8080/"
        },
        "id": "FYJVRgj-qCQp",
        "outputId": "ab3abc07-9add-4f94-caf0-6289c5366ab0"
      },
      "source": [
        "bike_df.groupby(['hour'])['total_count'].mean().sort_values(ascending=False)"
      ],
      "execution_count": 23,
      "outputs": [
        {
          "output_type": "execute_result",
          "data": {
            "text/plain": [
              "hour\n",
              "17    461.452055\n",
              "18    425.510989\n",
              "8     359.011004\n",
              "16    311.983562\n",
              "19    311.523352\n",
              "13    253.661180\n",
              "12    253.315934\n",
              "15    251.233196\n",
              "14    240.949246\n",
              "20    226.030220\n",
              "9     219.309491\n",
              "7     212.064649\n",
              "11    208.143054\n",
              "10    173.668501\n",
              "21    172.314560\n",
              "22    131.335165\n",
              "23     87.831044\n",
              "6      76.044138\n",
              "0      53.898072\n",
              "1      33.375691\n",
              "2      22.869930\n",
              "5      19.889819\n",
              "3      11.727403\n",
              "4       6.352941\n",
              "Name: total_count, dtype: float64"
            ]
          },
          "metadata": {
            "tags": []
          },
          "execution_count": 23
        }
      ]
    },
    {
      "cell_type": "markdown",
      "metadata": {
        "id": "1rIthI5zt2jK"
      },
      "source": [
        "* Que dia da semana contém a maior média de locações de bicicletas?\n",
        "* Que dia da semana contém a menor média de locações de bicicletas?"
      ]
    },
    {
      "cell_type": "code",
      "metadata": {
        "colab": {
          "base_uri": "https://localhost:8080/"
        },
        "id": "CW4SRBGRqSTI",
        "outputId": "661d3117-d78b-4b29-c6ce-ac61a00dadfc"
      },
      "source": [
        "bike_df.groupby(['weekday'])['total_count'].mean().sort_values(ascending=False)"
      ],
      "execution_count": 30,
      "outputs": [
        {
          "output_type": "execute_result",
          "data": {
            "text/plain": [
              "weekday\n",
              "4    196.436665\n",
              "5    196.135907\n",
              "2    191.238891\n",
              "3    191.130505\n",
              "6    190.209793\n",
              "1    183.744655\n",
              "0    177.468825\n",
              "Name: total_count, dtype: float64"
            ]
          },
          "metadata": {
            "tags": []
          },
          "execution_count": 30
        }
      ]
    },
    {
      "cell_type": "markdown",
      "metadata": {
        "id": "vw4J22FguSWH"
      },
      "source": [
        "* Às quartas-feiras ( weekday = 3 ), qual horário do dia contém a maior média de locações de bicicletas?"
      ]
    },
    {
      "cell_type": "code",
      "metadata": {
        "colab": {
          "base_uri": "https://localhost:8080/"
        },
        "id": "UfnZXptJq7gV",
        "outputId": "8a68aa17-e181-4f2e-8a90-4c97ad42ccd4"
      },
      "source": [
        "bike_df[bike_df['weekday'] == 3].groupby(['hour'])['total_count'].mean().sort_values(ascending=False)"
      ],
      "execution_count": 25,
      "outputs": [
        {
          "output_type": "execute_result",
          "data": {
            "text/plain": [
              "hour\n",
              "17    513.144231\n",
              "18    494.029126\n",
              "8     488.326923\n",
              "19    357.504854\n",
              "7     303.980769\n",
              "16    272.961538\n",
              "20    256.660194\n",
              "9     238.528846\n",
              "21    194.669903\n",
              "12    193.903846\n",
              "13    185.826923\n",
              "15    181.288462\n",
              "14    170.548077\n",
              "11    152.201923\n",
              "22    143.689320\n",
              "10    131.894231\n",
              "6     107.807692\n",
              "23     83.737864\n",
              "0      34.557692\n",
              "5      25.750000\n",
              "1      15.336538\n",
              "2       7.813725\n",
              "4       4.968750\n",
              "3       4.888889\n",
              "Name: total_count, dtype: float64"
            ]
          },
          "metadata": {
            "tags": []
          },
          "execution_count": 25
        }
      ]
    },
    {
      "cell_type": "markdown",
      "metadata": {
        "id": "zIkipN2NuWe0"
      },
      "source": [
        "* Aos sábados ( weekday = 6 ), qual horário do dia contém a maior média de locações de bicicletas?"
      ]
    },
    {
      "cell_type": "code",
      "metadata": {
        "colab": {
          "base_uri": "https://localhost:8080/"
        },
        "id": "CCoXWPR8rIzp",
        "outputId": "40b08b33-7260-4d43-acf6-21b168c8d1dd"
      },
      "source": [
        "bike_df[bike_df['weekday'] == 6].groupby(['hour'])['total_count'].mean().sort_values(ascending=False)"
      ],
      "execution_count": 26,
      "outputs": [
        {
          "output_type": "execute_result",
          "data": {
            "text/plain": [
              "hour\n",
              "13    385.371429\n",
              "15    382.428571\n",
              "14    381.333333\n",
              "12    375.380952\n",
              "16    366.142857\n",
              "17    334.409524\n",
              "11    328.609524\n",
              "18    292.048077\n",
              "10    263.723810\n",
              "19    239.932692\n",
              "9     186.790476\n",
              "20    180.865385\n",
              "21    156.000000\n",
              "22    139.663462\n",
              "23    115.855769\n",
              "8     114.476190\n",
              "0      94.304762\n",
              "1      67.780952\n",
              "2      50.495238\n",
              "7      45.961905\n",
              "3      22.885714\n",
              "6      21.000000\n",
              "5       8.291262\n",
              "4       7.657143\n",
              "Name: total_count, dtype: float64"
            ]
          },
          "metadata": {
            "tags": []
          },
          "execution_count": 26
        }
      ]
    },
    {
      "cell_type": "code",
      "metadata": {
        "id": "6cq8I6x9rNRa"
      },
      "source": [
        ""
      ],
      "execution_count": null,
      "outputs": []
    }
  ]
}